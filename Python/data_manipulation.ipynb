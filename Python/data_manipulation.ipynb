{
 "cells": [
  {
   "cell_type": "markdown",
   "metadata": {},
   "source": [
    "# Intro"
   ]
  },
  {
   "cell_type": "markdown",
   "metadata": {},
   "source": [
    "This file is meant to practice all sorts of Pandas data munging including:\n",
    "\n",
    "    1) Aggregations by group\n",
    "        - single agg function\n",
    "        - multiple agg functions in one line\n",
    "        - custom agg function\n",
    "    2) Merge/joins\n",
    "        - standard inner, outer, left, right on columns\n",
    "        - standard joins using subset of row indices\n",
    "        - standard joins using combo of row indices and columns\n",
    "    3) Pivot tables\n",
    "    4) Reindexing\n",
    "        - date/time fill in\n",
    "        - ffill/bfill\n",
    "    5) Dates\n",
    "        - convert string column to proper datetime"
   ]
  },
  {
   "cell_type": "markdown",
   "metadata": {},
   "source": [
    "# Notes\n",
    "#### Quantile cuts\n",
    "pd.qcut(x=myseries,q=[quantile1,... quantilen],labels=['label1',...,'labeln-1'])\n",
    "#### Value counts (results are ordered by descending count, index is value and column is count)\n",
    "myseries.value_counts()\n",
    "#### Extract values from series at specific indices in list\n",
    "myseries.take(list_of_positions)\n",
    "#### Get positions (not necessarily index values) of entries in series meeting some condition\n",
    "np.argwhere([x == whatever for x in myseries])\n",
    "#### Apply function to each element in a series\n",
    "myseries.map(lambda x: somefunc(x))\n",
    "#### Create one hot encoding schema for a column\n",
    "pd.get_dummies(myseries)"
   ]
  },
  {
   "cell_type": "code",
   "execution_count": 1,
   "metadata": {},
   "outputs": [],
   "source": [
    "# Import Pandas and Numpy\n",
    "import pandas as pd\n",
    "import numpy as np"
   ]
  },
  {
   "cell_type": "markdown",
   "metadata": {},
   "source": [
    "## Set One"
   ]
  },
  {
   "cell_type": "code",
   "execution_count": 5,
   "metadata": {},
   "outputs": [],
   "source": [
    "# Create some data.\n",
    "nrows, ngroups = 100, 5\n",
    "states = list(zip(['AR','AK','AZ','CT','DE','CA','FL'],['E','W','W','E','E','W','E']))\n",
    "df1 = pd.DataFrame({'id': list(range(1,nrows+1)),\n",
    "                    'state': np.random.choice([state for state, _ in states], nrows),\n",
    "                    'gender': np.random.choice(['m','f'], nrows),\n",
    "                    'value': np.random.uniform(0,100,nrows)})\n",
    "df2 = pd.DataFrame.from_records(states, columns=['state','region'])"
   ]
  },
  {
   "cell_type": "code",
   "execution_count": 3,
   "metadata": {},
   "outputs": [
    {
     "data": {
      "text/html": [
       "<div>\n",
       "<style scoped>\n",
       "    .dataframe tbody tr th:only-of-type {\n",
       "        vertical-align: middle;\n",
       "    }\n",
       "\n",
       "    .dataframe tbody tr th {\n",
       "        vertical-align: top;\n",
       "    }\n",
       "\n",
       "    .dataframe thead th {\n",
       "        text-align: right;\n",
       "    }\n",
       "</style>\n",
       "<table border=\"1\" class=\"dataframe\">\n",
       "  <thead>\n",
       "    <tr style=\"text-align: right;\">\n",
       "      <th></th>\n",
       "      <th>id</th>\n",
       "      <th>state</th>\n",
       "      <th>gender</th>\n",
       "      <th>value</th>\n",
       "    </tr>\n",
       "  </thead>\n",
       "  <tbody>\n",
       "    <tr>\n",
       "      <th>0</th>\n",
       "      <td>1</td>\n",
       "      <td>AZ</td>\n",
       "      <td>m</td>\n",
       "      <td>38.929425</td>\n",
       "    </tr>\n",
       "    <tr>\n",
       "      <th>1</th>\n",
       "      <td>2</td>\n",
       "      <td>AZ</td>\n",
       "      <td>m</td>\n",
       "      <td>4.782645</td>\n",
       "    </tr>\n",
       "    <tr>\n",
       "      <th>2</th>\n",
       "      <td>3</td>\n",
       "      <td>FL</td>\n",
       "      <td>m</td>\n",
       "      <td>44.251238</td>\n",
       "    </tr>\n",
       "    <tr>\n",
       "      <th>3</th>\n",
       "      <td>4</td>\n",
       "      <td>CT</td>\n",
       "      <td>f</td>\n",
       "      <td>59.987937</td>\n",
       "    </tr>\n",
       "    <tr>\n",
       "      <th>4</th>\n",
       "      <td>5</td>\n",
       "      <td>AZ</td>\n",
       "      <td>f</td>\n",
       "      <td>70.298703</td>\n",
       "    </tr>\n",
       "  </tbody>\n",
       "</table>\n",
       "</div>"
      ],
      "text/plain": [
       "   id state gender      value\n",
       "0   1    AZ      m  38.929425\n",
       "1   2    AZ      m   4.782645\n",
       "2   3    FL      m  44.251238\n",
       "3   4    CT      f  59.987937\n",
       "4   5    AZ      f  70.298703"
      ]
     },
     "execution_count": 3,
     "metadata": {},
     "output_type": "execute_result"
    }
   ],
   "source": [
    "df1.head()"
   ]
  },
  {
   "cell_type": "code",
   "execution_count": 4,
   "metadata": {},
   "outputs": [
    {
     "data": {
      "text/html": [
       "<div>\n",
       "<style scoped>\n",
       "    .dataframe tbody tr th:only-of-type {\n",
       "        vertical-align: middle;\n",
       "    }\n",
       "\n",
       "    .dataframe tbody tr th {\n",
       "        vertical-align: top;\n",
       "    }\n",
       "\n",
       "    .dataframe thead th {\n",
       "        text-align: right;\n",
       "    }\n",
       "</style>\n",
       "<table border=\"1\" class=\"dataframe\">\n",
       "  <thead>\n",
       "    <tr style=\"text-align: right;\">\n",
       "      <th></th>\n",
       "      <th>state</th>\n",
       "      <th>region</th>\n",
       "    </tr>\n",
       "  </thead>\n",
       "  <tbody>\n",
       "    <tr>\n",
       "      <th>0</th>\n",
       "      <td>AR</td>\n",
       "      <td>E</td>\n",
       "    </tr>\n",
       "    <tr>\n",
       "      <th>1</th>\n",
       "      <td>AK</td>\n",
       "      <td>W</td>\n",
       "    </tr>\n",
       "    <tr>\n",
       "      <th>2</th>\n",
       "      <td>AZ</td>\n",
       "      <td>W</td>\n",
       "    </tr>\n",
       "    <tr>\n",
       "      <th>3</th>\n",
       "      <td>CT</td>\n",
       "      <td>E</td>\n",
       "    </tr>\n",
       "    <tr>\n",
       "      <th>4</th>\n",
       "      <td>DE</td>\n",
       "      <td>E</td>\n",
       "    </tr>\n",
       "  </tbody>\n",
       "</table>\n",
       "</div>"
      ],
      "text/plain": [
       "  state region\n",
       "0    AR      E\n",
       "1    AK      W\n",
       "2    AZ      W\n",
       "3    CT      E\n",
       "4    DE      E"
      ]
     },
     "execution_count": 4,
     "metadata": {},
     "output_type": "execute_result"
    }
   ],
   "source": [
    "df2.head()"
   ]
  },
  {
   "cell_type": "code",
   "execution_count": 12,
   "metadata": {},
   "outputs": [
    {
     "data": {
      "text/plain": [
       "state\n",
       "AK    47.894300\n",
       "AR    54.752256\n",
       "AZ    35.469951\n",
       "CA    42.661535\n",
       "CT    42.451265\n",
       "DE    45.342190\n",
       "FL    36.157608\n",
       "Name: average, dtype: float64"
      ]
     },
     "execution_count": 12,
     "metadata": {},
     "output_type": "execute_result"
    }
   ],
   "source": [
    "# Question 1: What is the average value per state?\n",
    "average_per_state = df1.groupby(['state'])['value'].agg(np.mean)\n",
    "average_per_state.name = \"average\"\n",
    "average_per_state"
   ]
  },
  {
   "cell_type": "code",
   "execution_count": 14,
   "metadata": {},
   "outputs": [
    {
     "data": {
      "text/plain": [
       "state\n",
       "AK    33.117319\n",
       "AR    28.983420\n",
       "AZ    20.821954\n",
       "CA    30.459152\n",
       "CT    32.669256\n",
       "DE    27.032222\n",
       "FL    32.130425\n",
       "Name: standard_deviation, dtype: float64"
      ]
     },
     "execution_count": 14,
     "metadata": {},
     "output_type": "execute_result"
    }
   ],
   "source": [
    "# Question 2: What is the sd of value per state?\n",
    "sd_per_state = df1.groupby(['state'])['value'].agg(np.std)\n",
    "sd_per_state.name = \"standard_deviation\"\n",
    "sd_per_state"
   ]
  },
  {
   "cell_type": "code",
   "execution_count": 15,
   "metadata": {},
   "outputs": [
    {
     "data": {
      "text/html": [
       "<div>\n",
       "<style scoped>\n",
       "    .dataframe tbody tr th:only-of-type {\n",
       "        vertical-align: middle;\n",
       "    }\n",
       "\n",
       "    .dataframe tbody tr th {\n",
       "        vertical-align: top;\n",
       "    }\n",
       "\n",
       "    .dataframe thead th {\n",
       "        text-align: right;\n",
       "    }\n",
       "</style>\n",
       "<table border=\"1\" class=\"dataframe\">\n",
       "  <thead>\n",
       "    <tr style=\"text-align: right;\">\n",
       "      <th></th>\n",
       "      <th>average</th>\n",
       "      <th>standard_deviation</th>\n",
       "    </tr>\n",
       "    <tr>\n",
       "      <th>state</th>\n",
       "      <th></th>\n",
       "      <th></th>\n",
       "    </tr>\n",
       "  </thead>\n",
       "  <tbody>\n",
       "    <tr>\n",
       "      <th>AK</th>\n",
       "      <td>47.894300</td>\n",
       "      <td>33.117319</td>\n",
       "    </tr>\n",
       "    <tr>\n",
       "      <th>AR</th>\n",
       "      <td>54.752256</td>\n",
       "      <td>28.983420</td>\n",
       "    </tr>\n",
       "    <tr>\n",
       "      <th>AZ</th>\n",
       "      <td>35.469951</td>\n",
       "      <td>20.821954</td>\n",
       "    </tr>\n",
       "    <tr>\n",
       "      <th>CA</th>\n",
       "      <td>42.661535</td>\n",
       "      <td>30.459152</td>\n",
       "    </tr>\n",
       "    <tr>\n",
       "      <th>CT</th>\n",
       "      <td>42.451265</td>\n",
       "      <td>32.669256</td>\n",
       "    </tr>\n",
       "    <tr>\n",
       "      <th>DE</th>\n",
       "      <td>45.342190</td>\n",
       "      <td>27.032222</td>\n",
       "    </tr>\n",
       "    <tr>\n",
       "      <th>FL</th>\n",
       "      <td>36.157608</td>\n",
       "      <td>32.130425</td>\n",
       "    </tr>\n",
       "  </tbody>\n",
       "</table>\n",
       "</div>"
      ],
      "text/plain": [
       "         average  standard_deviation\n",
       "state                               \n",
       "AK     47.894300           33.117319\n",
       "AR     54.752256           28.983420\n",
       "AZ     35.469951           20.821954\n",
       "CA     42.661535           30.459152\n",
       "CT     42.451265           32.669256\n",
       "DE     45.342190           27.032222\n",
       "FL     36.157608           32.130425"
      ]
     },
     "execution_count": 15,
     "metadata": {},
     "output_type": "execute_result"
    }
   ],
   "source": [
    "# Combine the two results into a single dataframe.\n",
    "results = pd.concat([average_per_state, sd_per_state], axis=1)\n",
    "results"
   ]
  },
  {
   "cell_type": "code",
   "execution_count": 17,
   "metadata": {},
   "outputs": [
    {
     "data": {
      "text/html": [
       "<div>\n",
       "<style scoped>\n",
       "    .dataframe tbody tr th:only-of-type {\n",
       "        vertical-align: middle;\n",
       "    }\n",
       "\n",
       "    .dataframe tbody tr th {\n",
       "        vertical-align: top;\n",
       "    }\n",
       "\n",
       "    .dataframe thead th {\n",
       "        text-align: right;\n",
       "    }\n",
       "</style>\n",
       "<table border=\"1\" class=\"dataframe\">\n",
       "  <thead>\n",
       "    <tr style=\"text-align: right;\">\n",
       "      <th></th>\n",
       "      <th>average</th>\n",
       "      <th>standard_deviation</th>\n",
       "    </tr>\n",
       "    <tr>\n",
       "      <th>state</th>\n",
       "      <th></th>\n",
       "      <th></th>\n",
       "    </tr>\n",
       "  </thead>\n",
       "  <tbody>\n",
       "    <tr>\n",
       "      <th>AK</th>\n",
       "      <td>47.894300</td>\n",
       "      <td>33.117319</td>\n",
       "    </tr>\n",
       "    <tr>\n",
       "      <th>AR</th>\n",
       "      <td>54.752256</td>\n",
       "      <td>28.983420</td>\n",
       "    </tr>\n",
       "    <tr>\n",
       "      <th>AZ</th>\n",
       "      <td>35.469951</td>\n",
       "      <td>20.821954</td>\n",
       "    </tr>\n",
       "    <tr>\n",
       "      <th>CA</th>\n",
       "      <td>42.661535</td>\n",
       "      <td>30.459152</td>\n",
       "    </tr>\n",
       "    <tr>\n",
       "      <th>CT</th>\n",
       "      <td>42.451265</td>\n",
       "      <td>32.669256</td>\n",
       "    </tr>\n",
       "    <tr>\n",
       "      <th>DE</th>\n",
       "      <td>45.342190</td>\n",
       "      <td>27.032222</td>\n",
       "    </tr>\n",
       "    <tr>\n",
       "      <th>FL</th>\n",
       "      <td>36.157608</td>\n",
       "      <td>32.130425</td>\n",
       "    </tr>\n",
       "  </tbody>\n",
       "</table>\n",
       "</div>"
      ],
      "text/plain": [
       "         average  standard_deviation\n",
       "state                               \n",
       "AK     47.894300           33.117319\n",
       "AR     54.752256           28.983420\n",
       "AZ     35.469951           20.821954\n",
       "CA     42.661535           30.459152\n",
       "CT     42.451265           32.669256\n",
       "DE     45.342190           27.032222\n",
       "FL     36.157608           32.130425"
      ]
     },
     "execution_count": 17,
     "metadata": {},
     "output_type": "execute_result"
    }
   ],
   "source": [
    "# Do the same thing as above but in one pass.\n",
    "results = df1.groupby(['state']).agg(average=('value',np.mean),standard_deviation=('value',np.std))\n",
    "results"
   ]
  },
  {
   "cell_type": "code",
   "execution_count": null,
   "metadata": {},
   "outputs": [],
   "source": []
  }
 ],
 "metadata": {
  "kernelspec": {
   "display_name": "Python 3",
   "language": "python",
   "name": "python3"
  },
  "language_info": {
   "codemirror_mode": {
    "name": "ipython",
    "version": 3
   },
   "file_extension": ".py",
   "mimetype": "text/x-python",
   "name": "python",
   "nbconvert_exporter": "python",
   "pygments_lexer": "ipython3",
   "version": "3.7.7"
  }
 },
 "nbformat": 4,
 "nbformat_minor": 4
}
