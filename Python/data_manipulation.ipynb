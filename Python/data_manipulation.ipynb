{
 "cells": [
  {
   "cell_type": "markdown",
   "metadata": {},
   "source": [
    "# Intro"
   ]
  },
  {
   "cell_type": "markdown",
   "metadata": {},
   "source": [
    "This file is meant to practice all sorts of Pandas data munging including:\n",
    "    1) Aggregations by group\n",
    "        - single agg function\n",
    "        - multiple agg functions in one line\n",
    "        - custom agg function\n",
    "    2) Merge/joins\n",
    "        - standard inner, outer, left, right on columns\n",
    "        - standard joins using subset of row indices\n",
    "        - standard joins using combo of row indices and columns\n",
    "    3) Pivot tables\n",
    "    4) Reindexing\n",
    "        - date/time fill in\n",
    "        - ffill/bfill\n",
    "    5) Dates\n",
    "        - convert string column to proper datetime"
   ]
  },
  {
   "cell_type": "code",
   "execution_count": 1,
   "metadata": {},
   "outputs": [],
   "source": [
    "# Import Pandas and Numpy\n",
    "import pandas as pd\n",
    "import numpy as np"
   ]
  },
  {
   "cell_type": "code",
   "execution_count": 2,
   "metadata": {},
   "outputs": [],
   "source": [
    "# Create some data.\n",
    "nrows, ngroups = 100, 5\n",
    "states = list(zip(['AR','AK','AZ','CT','DE','CA','FL'],['E','W','W','E','E','W','E']))\n",
    "df1 = pd.DataFrame({'id': list(range(1,nrows+1)),\n",
    "                    'state': np.random.choice([state for state, _ in states], nrows),\n",
    "                    'gender': np.random.choice(['m','f'], nrows),\n",
    "                    'value': np.random.uniform(0,100,nrows)})\n",
    "df2 = pd.DataFrame.from_records(states, columns=['state','region'])"
   ]
  },
  {
   "cell_type": "code",
   "execution_count": null,
   "metadata": {},
   "outputs": [],
   "source": []
  }
 ],
 "metadata": {
  "kernelspec": {
   "display_name": "Python 3",
   "language": "python",
   "name": "python3"
  },
  "language_info": {
   "codemirror_mode": {
    "name": "ipython",
    "version": 3
   },
   "file_extension": ".py",
   "mimetype": "text/x-python",
   "name": "python",
   "nbconvert_exporter": "python",
   "pygments_lexer": "ipython3",
   "version": "3.7.7"
  }
 },
 "nbformat": 4,
 "nbformat_minor": 4
}
